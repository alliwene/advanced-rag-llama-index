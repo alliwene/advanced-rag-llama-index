{
 "cells": [
  {
   "cell_type": "code",
   "execution_count": 1,
   "metadata": {},
   "outputs": [
    {
     "name": "stdout",
     "output_type": "stream",
     "text": [
      "✅ In Answer Relevance, input prompt will be set to __record__.main_input or `Select.RecordInput` .\n",
      "✅ In Answer Relevance, input response will be set to __record__.main_output or `Select.RecordOutput` .\n",
      "✅ In Context Relevance, input prompt will be set to __record__.main_input or `Select.RecordInput` .\n",
      "✅ In Context Relevance, input response will be set to __record__.app.query.rets.source_nodes[:].node.text .\n",
      "✅ In Groundedness, input source will be set to __record__.app.query.rets.source_nodes[:].node.text .\n",
      "✅ In Groundedness, input statement will be set to __record__.main_output or `Select.RecordOutput` .\n"
     ]
    }
   ],
   "source": [
    "from scripts import utils\n",
    "\n",
    "import os\n",
    "from pprint import pprint\n",
    "import openai\n",
    "\n",
    "openai.api_key = utils.get_openai_api_key()"
   ]
  },
  {
   "cell_type": "code",
   "execution_count": null,
   "metadata": {},
   "outputs": [],
   "source": []
  },
  {
   "cell_type": "code",
   "execution_count": 2,
   "metadata": {},
   "outputs": [],
   "source": [
    "from llama_index import SimpleDirectoryReader\n",
    "\n",
    "documents = SimpleDirectoryReader(\n",
    "    input_files=[\"pdfs/eBook-How-to-Build-a-Career-in-AI.pdf\"]\n",
    ").load_data()"
   ]
  },
  {
   "cell_type": "code",
   "execution_count": 5,
   "metadata": {},
   "outputs": [
    {
     "name": "stdout",
     "output_type": "stream",
     "text": [
      "<class 'list'> \n",
      "\n",
      "41 \n",
      "\n",
      "<class 'llama_index.schema.Document'> \n",
      "\n",
      "Doc ID: e1e2d226-c596-417a-bb96-0769693eaeff\n",
      "Text: PAGE 1Founder, DeepLearning.AICollected Insights from Andrew Ng\n",
      "How to  Build Your Career in AIA Simple Guide\n"
     ]
    }
   ],
   "source": [
    "print(type(documents), \"\\n\")\n",
    "print(len(documents), \"\\n\")\n",
    "print(type(documents[0]), \"\\n\")\n",
    "print(documents[0])"
   ]
  },
  {
   "cell_type": "code",
   "execution_count": 6,
   "metadata": {},
   "outputs": [
    {
     "data": {
      "text/plain": [
       "'PAGE 2\"AI is the new \\nelectricity. It will \\ntransform and improve \\nall areas of human life.\"\\nAndrew Ng'"
      ]
     },
     "execution_count": 6,
     "metadata": {},
     "output_type": "execute_result"
    }
   ],
   "source": [
    "documents[1].text"
   ]
  },
  {
   "cell_type": "markdown",
   "metadata": {},
   "source": [
    "### Basic RAG Pipeline"
   ]
  },
  {
   "cell_type": "code",
   "execution_count": 3,
   "metadata": {},
   "outputs": [],
   "source": [
    "from llama_index import Document\n",
    "\n",
    "document = Document(text=\"\\n\\n\".join([doc.text for doc in documents]))"
   ]
  },
  {
   "cell_type": "code",
   "execution_count": 8,
   "metadata": {},
   "outputs": [],
   "source": [
    "# print(document.text)"
   ]
  },
  {
   "cell_type": "code",
   "execution_count": 4,
   "metadata": {},
   "outputs": [
    {
     "data": {
      "application/vnd.jupyter.widget-view+json": {
       "model_id": "561e690f0a974198be00858828ff0860",
       "version_major": 2,
       "version_minor": 0
      },
      "text/plain": [
       "config.json:   0%|          | 0.00/743 [00:00<?, ?B/s]"
      ]
     },
     "metadata": {},
     "output_type": "display_data"
    },
    {
     "data": {
      "application/vnd.jupyter.widget-view+json": {
       "model_id": "8c24f5905b4c4ca7ad5509c5166dfa90",
       "version_major": 2,
       "version_minor": 0
      },
      "text/plain": [
       "model.safetensors:   0%|          | 0.00/133M [00:00<?, ?B/s]"
      ]
     },
     "metadata": {},
     "output_type": "display_data"
    },
    {
     "data": {
      "application/vnd.jupyter.widget-view+json": {
       "model_id": "b6afae22c6744273b2015c7dfcc8cf45",
       "version_major": 2,
       "version_minor": 0
      },
      "text/plain": [
       "tokenizer_config.json:   0%|          | 0.00/366 [00:00<?, ?B/s]"
      ]
     },
     "metadata": {},
     "output_type": "display_data"
    },
    {
     "data": {
      "application/vnd.jupyter.widget-view+json": {
       "model_id": "3707d8129aae4fa3beb13d3d91dd8978",
       "version_major": 2,
       "version_minor": 0
      },
      "text/plain": [
       "vocab.txt:   0%|          | 0.00/232k [00:00<?, ?B/s]"
      ]
     },
     "metadata": {},
     "output_type": "display_data"
    },
    {
     "data": {
      "application/vnd.jupyter.widget-view+json": {
       "model_id": "1f98ba20270742ffb43170c50812a401",
       "version_major": 2,
       "version_minor": 0
      },
      "text/plain": [
       "tokenizer.json:   0%|          | 0.00/711k [00:00<?, ?B/s]"
      ]
     },
     "metadata": {},
     "output_type": "display_data"
    },
    {
     "data": {
      "application/vnd.jupyter.widget-view+json": {
       "model_id": "978bf3bda0334fdea18831ec27147576",
       "version_major": 2,
       "version_minor": 0
      },
      "text/plain": [
       "special_tokens_map.json:   0%|          | 0.00/125 [00:00<?, ?B/s]"
      ]
     },
     "metadata": {},
     "output_type": "display_data"
    }
   ],
   "source": [
    "from llama_index import VectorStoreIndex\n",
    "from llama_index import ServiceContext\n",
    "from llama_index.llms import OpenAI\n",
    "\n",
    "llm = OpenAI(model=\"gpt-3.5-turbo\", temperature=0.1)\n",
    "\n",
    "service_context = ServiceContext.from_defaults(\n",
    "    llm=llm, embed_model=\"local:BAAI/bge-small-en-v1.5\"\n",
    ")\n",
    "\n",
    "index = VectorStoreIndex.from_documents([document], service_context=service_context)"
   ]
  },
  {
   "cell_type": "code",
   "execution_count": 5,
   "metadata": {},
   "outputs": [],
   "source": [
    "query_engine = index.as_query_engine()"
   ]
  },
  {
   "cell_type": "code",
   "execution_count": 7,
   "metadata": {},
   "outputs": [
    {
     "name": "stdout",
     "output_type": "stream",
     "text": [
      "Response(response=\"I'm sorry, but I don't have any information about Bola \"\n",
      "                  'Ahmed Tinubu based on the given context.',\n",
      "         source_nodes=[NodeWithScore(node=TextNode(id_='dc1623d5-a225-485a-824c-db0aae469480', embedding=None, metadata={}, excluded_embed_metadata_keys=[], excluded_llm_metadata_keys=[], relationships={<NodeRelationship.SOURCE: '1'>: RelatedNodeInfo(node_id='3628187d-abda-4457-bb01-d2db09c41aba', node_type=<ObjectType.DOCUMENT: '4'>, metadata={}, hash='fdc7ce9a017ce62d4e0b30cc419051a9bb56618a8569f51a2b64f8535fe6244e'), <NodeRelationship.PREVIOUS: '2'>: RelatedNodeInfo(node_id='078611d9-e01a-49a3-9954-0b4e451a93d6', node_type=<ObjectType.TEXT: '1'>, metadata={}, hash='26acbe7ab4f830acb42e62964fb13c92f3081ba58b41f43231766d1b68c6f3f2')}, hash='ecc59f2243975343f9724f9707be820b816049cea8cab8eb04a184a6fff08fa1', text='PAGE 37Overcoming Imposter \\nSyndromeCHAPTER 11\\n\\nPAGE 38Before we dive into the final chapter of this book, I’d like to address the serious matter of \\nnewcomers to AI sometimes experiencing imposter syndrome, where someone — regardless \\nof their success in the field — wonders if they’re a fraud and really belong in the AI community. \\nI want to make sure this doesn’t discourage you or anyone else from growing in AI.\\nAn estimated 70 percent of people experience some form of imposter syndrome at some point. \\nMany talented people have spoken publicly about this experience, including former Facebook \\nCOO Sheryl Sandberg, U.S. first lady Michelle Obama, actor Tom Hanks, and Atlassian co-CEO \\nMike Cannon-Brookes. It happens in our community even among accomplished people. If you’ve \\nnever experienced this yourself, that’s great! I hope you’ll join me in encouraging and welcoming \\neveryone who wants to join our community.\\nAI is technically complex, and it has its fair share of smart and highly capable people. But it is \\neasy to forget that to become good at anything, the first step is to suck at it. If you’ve succeeded \\nat sucking at AI — congratulations, you’re on your way!\\nI once struggled to understand the math behind linear regression. I was mystified when \\nlogistic regression performed strangely on my data, and it took me days to find a bug in my \\nimplementation of a basic neural network. Today, I still find many research papers challenging \\nto read, and I recently made an obvious mistake while tuning a neural network hyperparameter \\n(that fortunately a fellow engineer caught and fixed).\\nSo if you, too, find parts of AI challenging, it’s okay. We’ve all been there. I guarantee that everyone \\nwho has published a seminal AI paper struggled with similar technical challenges at some point.Let me be clear: If you want to be part of the AI \\ncommunity, then I welcome you with open arms. \\nIf you want to join us, you fully belong with us!Overcoming Imposter Syndrome\\n\\nPAGE 39My three-year-old daughter (who can barely count to 12) regularly tries to teach things to my \\none-year-old son. No matter how far along you are — if you’re at least as knowledgeable as a \\nthree-year-old — you can encourage and lift up others behind you. Doing so will help you, too, \\nas others behind you will recognize your expertise and also encourage you to keep developing. \\nWhen you invite others to join the AI community, which I hope you will do, it also reduces any \\ndoubts that you are already one of us.\\nAI is such an important part of our world that I would like everyone who wants to be part of it \\nto feel at home as a member of our community. Let’s work together to make it happen.Here are some things that can help.\\nDo you have supportive mentors or peers? If you don’t yet, attend Pie & AI or other events, \\nuse discussion boards, and work on finding some. If your mentors or manager don’t support \\nyour growth, find ones who do. I’m also working on how to grow a supportive AI community \\nand hope to make finding and giving support easier for everyone.\\nNo one is an expert at everything. Recognize what you do well. If what you do well is \\nunderstand and explain to your friends one-tenth of the articles in The Batch,  then you’re \\non your way! Let’s work on getting you to understand two-tenths of the articles.✓\\n✓\\nOvercoming Imposter Syndrome\\n\\nPAGE 40Make Every Day CountFinal Thoughts\\nEvery year on my birthday, I get to thinking about the days behind and those \\nthat may lie ahead.\\nWhen I ask friends, many choose a number in the hundreds of \\nthousands. (Many others can’t resist calculating the answer, \\nto my annoyance!)\\nWhen I was a grad student, I remember plugging my statistics \\ninto a mortality calculator to figure out my life expectancy. \\nThe calculator said I could expect to live a total of 27,649 \\ndays. It struck me how small this number is. I printed it in a \\nlarge font and pasted it on my office wall as a daily reminder.\\nThat’s all the days we have to spend with loved ones, learn, \\nbuild for the future, and help others. Whatever you’re doing \\ntoday, is it worth 1/30,000 of your life?How many days is a \\ntypical human lifespan?Maybe you’re good at math; I’m sure you’ll be able to answer the following question \\nvia a quick calculation. But let me ask you a question, and please answer from \\nyour gut, without calculating.\\n20,000 days 100,000 days\\n1 million days 5 million days\\n\\nPAGE 41', start_char_idx=44039, end_char_idx=48463, text_template='{metadata_str}\\n\\n{content}', metadata_template='{key}: {value}', metadata_seperator='\\n'), score=0.48060593551158703),\n",
      "                       NodeWithScore(node=TextNode(id_='5b6ec286-d38d-4a49-a013-4b426af132a6', embedding=None, metadata={}, excluded_embed_metadata_keys=[], excluded_llm_metadata_keys=[], relationships={<NodeRelationship.SOURCE: '1'>: RelatedNodeInfo(node_id='3628187d-abda-4457-bb01-d2db09c41aba', node_type=<ObjectType.DOCUMENT: '4'>, metadata={}, hash='fdc7ce9a017ce62d4e0b30cc419051a9bb56618a8569f51a2b64f8535fe6244e'), <NodeRelationship.NEXT: '3'>: RelatedNodeInfo(node_id='90d96582-336b-4d76-a472-fce3c73684c9', node_type=<ObjectType.TEXT: '1'>, metadata={}, hash='fad795060d54a6982b0959a4711c48bd2a5e9d406e0e3a78455392fda7490ec8')}, hash='b60ea2026fe151c946ba85972b96e1db2803629670f10398ab7a8bf9246fbf79', text='PAGE 1Founder, DeepLearning.AICollected Insights\\nfrom Andrew Ng\\nHow to \\nBuild\\nYour\\nCareer\\nin AIA Simple Guide\\n\\n\\nPAGE 2\"AI is the new \\nelectricity. It will \\ntransform and improve \\nall areas of human life.\"\\nAndrew Ng\\n\\nPAGE 3Table of \\nContentsIntroduction: Coding AI is the New Literacy.\\nChapter 1: Three Steps to Career Growth.\\nChapter 2: Learning Technical Skills for a \\nPromising AI Career.\\nChapter 3: Should You Learn Math to Get a Job \\nin AI?\\nChapter 4: Scoping Successful AI Projects.\\nChapter 5: Finding Projects that Complement \\nYour Career Goals.\\nChapter 6: Building a Portfolio of Projects that \\nShows Skill Progression.\\nChapter 7: A Simple Framework for Starting Your AI \\nJob Search.\\nChapter 8: Using Informational Interviews to Find \\nthe Right Job.\\nChapter 9: Finding the Right AI Job for You.\\nChapter 10: Keys to Building a Career in AI.\\nChapter 11: Overcoming Imposter Syndrome.\\nFinal Thoughts: Make Every Day Count.LEARNING\\nPROJECTS\\nJOB\\n\\nPAGE 4Coding AI Is the New Literacy\\nToday we take it for granted that many people know how to read and write. Someday, I hope, \\nit will be just as common that people know how to write code, specifically for AI.\\nSeveral hundred years ago, society didn’t view language literacy as a necessary skill. A small \\nnumber of people learned to read and write, and everyone else let them do the reading and \\nwriting. It took centuries for literacy to spread, and now society is far richer for it.\\nWords enable deep human-to-human communication. Code is the deepest form of human-to-\\nmachine communication. As machines become more central to daily life, that communication \\nbecomes ever more important.\\nTraditional software engineering — writing programs that explicitly tell a computer sequences \\nof steps to execute — has been the main path to code literacy. Many introductory programming \\nclasses use creating a video game or building a website as examples. But AI, machine learning, \\nand data science offer a new paradigm in which computers extract knowledge from data. This \\ntechnology offers an even better pathway to coding.\\nMany Sundays, I buy a slice of pizza from my neighborhood pizza parlor. The gentleman \\nbehind the counter has little reason to learn how to build a video game or write his own \\nwebsite software (beyond personal growth and the pleasure of gaining a new skill).\\nBut AI and data science have great value even for a pizza maker. A linear regression model might \\nenable him to better estimate demand so he can optimize the restaurant’s staffing and supply \\nchain. He could better predict sales of Hawaiian pizza — my favorite! — so he could make more \\nHawaiian pies in advance and reduce the amount of time customers had to wait for them.\\nUses of AI and data science can be found in almost any situation that produces data.  Thus, \\na wide variety of professions will find more uses for custom AI applications and data-derived \\ninsights than for traditional software engineering. This makes literacy in AI-oriented coding \\neven more valuable than traditional coding. It could enable countless individuals to harness \\ndata to make their lives richer.\\nI hope the promise of building basic AI applications, even more than that of building basic \\ntraditional software, encourages more people to learn how to code. If society embraces this \\nnew form of literacy as it has the ability to read and write, we will all benefit.Introduction\\n\\nPAGE 5Three Steps to \\nCareer GrowthCHAPTER 1\\n\\nPAGE 6The rapid rise of AI has led to a rapid rise in AI jobs, and many people are building exciting \\ncareers in this field. A career is a decades-long journey, and the path is not straightforward. \\nOver many years, I’ve been privileged to see thousands of students, as well as engineers in \\ncompanies large and small, navigate careers in AI.\\n \\nHere’s a framework for charting your own course.\\nLater, you will work \\non finding a job. \\nThroughout this \\nprocess, you’ll continue \\nto learn and work on \\nmeaningful projects. \\nChapters with the\\nfocus on a job search.Three key steps of career growth are learning foundational skills, working on projects (to \\ndeepen your skills, build a portfolio, and create impact), and finding a job. These steps stack \\non top of each other:Three Steps to Career Growth\\nLEARNING PROJECTS JOBCHAPTER 1\\nInitially, you \\nfocus on learning \\nfoundational skills. \\nChapters with the \\ncover topics about \\nlearning foundational \\ntechnical skills. After having gained \\nfoundational technical \\nskills, you will begin \\nworking on projects. \\nDuring this period, you’ll \\nalso keep learning. \\nChapters with the     \\nfocus on projects.', start_char_idx=0, end_char_idx=4592, text_template='{metadata_str}\\n\\n{content}', metadata_template='{key}: {value}', metadata_seperator='\\n'), score=0.4567575176348373)],\n",
      "         metadata={'5b6ec286-d38d-4a49-a013-4b426af132a6': {},\n",
      "                   'dc1623d5-a225-485a-824c-db0aae469480': {}})\n"
     ]
    }
   ],
   "source": [
    "pprint(query_engine.query(\n",
    "    \"Who is Bola Ahmed Tinubu?\"\n",
    "))"
   ]
  },
  {
   "cell_type": "code",
   "execution_count": 11,
   "metadata": {},
   "outputs": [
    {
     "name": "stdout",
     "output_type": "stream",
     "text": [
      "('When finding projects to build your experience, there are several steps you '\n",
      " 'can take. First, you can join existing projects by asking to join someone '\n",
      " \"else's project if they have an idea. Additionally, you can continue reading, \"\n",
      " 'taking courses, and talking to domain experts to come up with new ideas. '\n",
      " 'Another approach is to focus on a specific application area where machine '\n",
      " 'learning has not yet been applied. This can give you the opportunity to '\n",
      " 'explore unique and creative applications that no one else has done yet. '\n",
      " 'Finally, you can develop a side hustle or personal project that may or may '\n",
      " 'not develop into something bigger, as this can stir your creative juices and '\n",
      " 'strengthen bonds with collaborators.')\n"
     ]
    }
   ],
   "source": [
    "response = query_engine.query(\n",
    "    \"What are steps to take when finding projects to build your experience?\"\n",
    ")\n",
    "pprint(str(response))"
   ]
  },
  {
   "cell_type": "code",
   "execution_count": null,
   "metadata": {},
   "outputs": [],
   "source": []
  },
  {
   "cell_type": "markdown",
   "metadata": {},
   "source": [
    "### Evaluation setup using TruLens"
   ]
  },
  {
   "cell_type": "code",
   "execution_count": 12,
   "metadata": {},
   "outputs": [
    {
     "name": "stdout",
     "output_type": "stream",
     "text": [
      "What are the keys to building a career in AI?\n",
      "How can teamwork contribute to success in AI?\n",
      "What is the importance of networking in AI?\n",
      "What are some good habits to develop for a successful career?\n",
      "How can altruism be beneficial in building a career?\n",
      "What is imposter syndrome and how does it relate to AI?\n",
      "Who are some accomplished individuals who have experienced imposter syndrome?\n",
      "What is the first step to becoming good at AI?\n",
      "What are some common challenges in AI?\n",
      "Is it normal to find parts of AI challenging?\n"
     ]
    }
   ],
   "source": [
    "eval_questions = []\n",
    "with open(\"texts/eval_questions.txt\", \"r\") as file:\n",
    "    for line in file:\n",
    "        # Remove newline character \n",
    "        item = line.strip()\n",
    "        print(item)\n",
    "        eval_questions.append(item)"
   ]
  },
  {
   "cell_type": "code",
   "execution_count": 13,
   "metadata": {},
   "outputs": [],
   "source": [
    "new_question = \"What is the right AI job for me?\"\n",
    "eval_questions.append(new_question)"
   ]
  },
  {
   "cell_type": "code",
   "execution_count": 14,
   "metadata": {},
   "outputs": [
    {
     "name": "stdout",
     "output_type": "stream",
     "text": [
      "['What are the keys to building a career in AI?',\n",
      " 'How can teamwork contribute to success in AI?',\n",
      " 'What is the importance of networking in AI?',\n",
      " 'What are some good habits to develop for a successful career?',\n",
      " 'How can altruism be beneficial in building a career?',\n",
      " 'What is imposter syndrome and how does it relate to AI?',\n",
      " 'Who are some accomplished individuals who have experienced imposter '\n",
      " 'syndrome?',\n",
      " 'What is the first step to becoming good at AI?',\n",
      " 'What are some common challenges in AI?',\n",
      " 'Is it normal to find parts of AI challenging?',\n",
      " 'What is the right AI job for me?']\n"
     ]
    }
   ],
   "source": [
    "pprint(eval_questions)"
   ]
  },
  {
   "cell_type": "code",
   "execution_count": 1,
   "metadata": {},
   "outputs": [
    {
     "name": "stdout",
     "output_type": "stream",
     "text": [
      "🦑 Tru initialized with db url sqlite:///db/default.sqlite .\n",
      "🛑 Secret keys may be written to the database. See the `database_redact_keys` option of `Tru` to prevent this.\n"
     ]
    }
   ],
   "source": [
    "from trulens_eval import Tru\n",
    "\n",
    "tru = Tru(database_url=\"sqlite:///db/default.sqlite\")\n",
    "\n",
    "# tru.reset_database()"
   ]
  },
  {
   "cell_type": "code",
   "execution_count": 37,
   "metadata": {},
   "outputs": [],
   "source": [
    "from scripts.utils import get_prebuilt_trulens_recorder\n",
    "\n",
    "tru_recorder = get_prebuilt_trulens_recorder(query_engine, app_id=\"Direct Query Engine\")"
   ]
  },
  {
   "cell_type": "code",
   "execution_count": 38,
   "metadata": {},
   "outputs": [],
   "source": [
    "with tru_recorder as recording:\n",
    "    for question in eval_questions:\n",
    "        response = query_engine.query(question)"
   ]
  },
  {
   "cell_type": "code",
   "execution_count": 30,
   "metadata": {},
   "outputs": [],
   "source": [
    "records, feedback = tru.get_records_and_feedback(app_ids=[])"
   ]
  },
  {
   "cell_type": "code",
   "execution_count": 31,
   "metadata": {},
   "outputs": [
    {
     "data": {
      "text/html": [
       "<div>\n",
       "<style scoped>\n",
       "    .dataframe tbody tr th:only-of-type {\n",
       "        vertical-align: middle;\n",
       "    }\n",
       "\n",
       "    .dataframe tbody tr th {\n",
       "        vertical-align: top;\n",
       "    }\n",
       "\n",
       "    .dataframe thead th {\n",
       "        text-align: right;\n",
       "    }\n",
       "</style>\n",
       "<table border=\"1\" class=\"dataframe\">\n",
       "  <thead>\n",
       "    <tr style=\"text-align: right;\">\n",
       "      <th></th>\n",
       "      <th>app_id</th>\n",
       "      <th>app_json</th>\n",
       "      <th>type</th>\n",
       "      <th>record_id</th>\n",
       "      <th>input</th>\n",
       "      <th>output</th>\n",
       "      <th>tags</th>\n",
       "      <th>record_json</th>\n",
       "      <th>cost_json</th>\n",
       "      <th>perf_json</th>\n",
       "      <th>ts</th>\n",
       "      <th>Answer Relevance</th>\n",
       "      <th>Context Relevance</th>\n",
       "      <th>Groundedness</th>\n",
       "      <th>Answer Relevance_calls</th>\n",
       "      <th>Context Relevance_calls</th>\n",
       "      <th>Groundedness_calls</th>\n",
       "      <th>latency</th>\n",
       "      <th>total_tokens</th>\n",
       "      <th>total_cost</th>\n",
       "    </tr>\n",
       "  </thead>\n",
       "  <tbody>\n",
       "    <tr>\n",
       "      <th>0</th>\n",
       "      <td>Direct Query Engine</td>\n",
       "      <td>{\"tru_class_info\": {\"name\": \"TruLlama\", \"modul...</td>\n",
       "      <td>RetrieverQueryEngine(llama_index.query_engine....</td>\n",
       "      <td>record_hash_6aa96a48bb6ce0424fc6a1270f807f3c</td>\n",
       "      <td>\"What are the keys to building a career in AI?\"</td>\n",
       "      <td>\"The keys to building a career in AI are learn...</td>\n",
       "      <td>-</td>\n",
       "      <td>{\"record_id\": \"record_hash_6aa96a48bb6ce0424fc...</td>\n",
       "      <td>{\"n_requests\": 1, \"n_successful_requests\": 1, ...</td>\n",
       "      <td>{\"start_time\": \"2024-01-10T16:39:20.174730\", \"...</td>\n",
       "      <td>2024-01-10T16:39:31.861304</td>\n",
       "      <td>0.9</td>\n",
       "      <td>0.6</td>\n",
       "      <td>1.00</td>\n",
       "      <td>[{'args': {'prompt': 'What are the keys to bui...</td>\n",
       "      <td>[{'args': {'prompt': 'What are the keys to bui...</td>\n",
       "      <td>[{'args': {'source': 'PAGE 1Founder, DeepLearn...</td>\n",
       "      <td>11</td>\n",
       "      <td>2182</td>\n",
       "      <td>0.003355</td>\n",
       "    </tr>\n",
       "    <tr>\n",
       "      <th>1</th>\n",
       "      <td>Direct Query Engine</td>\n",
       "      <td>{\"tru_class_info\": {\"name\": \"TruLlama\", \"modul...</td>\n",
       "      <td>RetrieverQueryEngine(llama_index.query_engine....</td>\n",
       "      <td>record_hash_9329c6256dfb24b2f166f167f3b4f309</td>\n",
       "      <td>\"How can teamwork contribute to success in AI?\"</td>\n",
       "      <td>\"Collaborating and working in teams is crucial...</td>\n",
       "      <td>-</td>\n",
       "      <td>{\"record_id\": \"record_hash_9329c6256dfb24b2f16...</td>\n",
       "      <td>{\"n_requests\": 1, \"n_successful_requests\": 1, ...</td>\n",
       "      <td>{\"start_time\": \"2024-01-10T16:39:33.174192\", \"...</td>\n",
       "      <td>2024-01-10T16:39:41.607836</td>\n",
       "      <td>0.9</td>\n",
       "      <td>0.0</td>\n",
       "      <td>1.00</td>\n",
       "      <td>[{'args': {'prompt': 'How can teamwork contrib...</td>\n",
       "      <td>[{'args': {'prompt': 'How can teamwork contrib...</td>\n",
       "      <td>[{'args': {'source': 'Hopefully the previous c...</td>\n",
       "      <td>8</td>\n",
       "      <td>1722</td>\n",
       "      <td>0.002632</td>\n",
       "    </tr>\n",
       "    <tr>\n",
       "      <th>2</th>\n",
       "      <td>Direct Query Engine</td>\n",
       "      <td>{\"tru_class_info\": {\"name\": \"TruLlama\", \"modul...</td>\n",
       "      <td>RetrieverQueryEngine(llama_index.query_engine....</td>\n",
       "      <td>record_hash_aefe240795d018984848e482006083c7</td>\n",
       "      <td>\"What is the importance of networking in AI?\"</td>\n",
       "      <td>\"Networking is important in AI because it help...</td>\n",
       "      <td>-</td>\n",
       "      <td>{\"record_id\": \"record_hash_aefe240795d01898484...</td>\n",
       "      <td>{\"n_requests\": 1, \"n_successful_requests\": 1, ...</td>\n",
       "      <td>{\"start_time\": \"2024-01-10T16:39:42.995205\", \"...</td>\n",
       "      <td>2024-01-10T16:39:51.533584</td>\n",
       "      <td>0.9</td>\n",
       "      <td>0.1</td>\n",
       "      <td>0.25</td>\n",
       "      <td>[{'args': {'prompt': 'What is the importance o...</td>\n",
       "      <td>[{'args': {'prompt': 'What is the importance o...</td>\n",
       "      <td>[{'args': {'source': 'Hopefully the previous c...</td>\n",
       "      <td>8</td>\n",
       "      <td>1713</td>\n",
       "      <td>0.002613</td>\n",
       "    </tr>\n",
       "    <tr>\n",
       "      <th>3</th>\n",
       "      <td>Direct Query Engine</td>\n",
       "      <td>{\"tru_class_info\": {\"name\": \"TruLlama\", \"modul...</td>\n",
       "      <td>RetrieverQueryEngine(llama_index.query_engine....</td>\n",
       "      <td>record_hash_fa33f5e3141d34fe7b7d07ad0e95198f</td>\n",
       "      <td>\"What are some good habits to develop for a su...</td>\n",
       "      <td>\"Developing good habits is crucial for a succe...</td>\n",
       "      <td>-</td>\n",
       "      <td>{\"record_id\": \"record_hash_fa33f5e3141d34fe7b7...</td>\n",
       "      <td>{\"n_requests\": 1, \"n_successful_requests\": 1, ...</td>\n",
       "      <td>{\"start_time\": \"2024-01-10T16:39:53.129896\", \"...</td>\n",
       "      <td>2024-01-10T16:40:01.787373</td>\n",
       "      <td>0.9</td>\n",
       "      <td>0.6</td>\n",
       "      <td>0.82</td>\n",
       "      <td>[{'args': {'prompt': 'What are some good habit...</td>\n",
       "      <td>[{'args': {'prompt': 'What are some good habit...</td>\n",
       "      <td>[{'args': {'source': 'Hopefully the previous c...</td>\n",
       "      <td>8</td>\n",
       "      <td>1694</td>\n",
       "      <td>0.002590</td>\n",
       "    </tr>\n",
       "    <tr>\n",
       "      <th>4</th>\n",
       "      <td>Direct Query Engine</td>\n",
       "      <td>{\"tru_class_info\": {\"name\": \"TruLlama\", \"modul...</td>\n",
       "      <td>RetrieverQueryEngine(llama_index.query_engine....</td>\n",
       "      <td>record_hash_ed0ff1fb814540f7502446009d91b031</td>\n",
       "      <td>\"How can altruism be beneficial in building a ...</td>\n",
       "      <td>\"Altruism can be beneficial in building a care...</td>\n",
       "      <td>-</td>\n",
       "      <td>{\"record_id\": \"record_hash_ed0ff1fb814540f7502...</td>\n",
       "      <td>{\"n_requests\": 1, \"n_successful_requests\": 1, ...</td>\n",
       "      <td>{\"start_time\": \"2024-01-10T16:40:03.466133\", \"...</td>\n",
       "      <td>2024-01-10T16:40:12.487700</td>\n",
       "      <td>0.9</td>\n",
       "      <td>0.3</td>\n",
       "      <td>0.40</td>\n",
       "      <td>[{'args': {'prompt': 'How can altruism be bene...</td>\n",
       "      <td>[{'args': {'prompt': 'How can altruism be bene...</td>\n",
       "      <td>[{'args': {'source': 'Hopefully the previous c...</td>\n",
       "      <td>9</td>\n",
       "      <td>1710</td>\n",
       "      <td>0.002623</td>\n",
       "    </tr>\n",
       "  </tbody>\n",
       "</table>\n",
       "</div>"
      ],
      "text/plain": [
       "                app_id                                           app_json  \\\n",
       "0  Direct Query Engine  {\"tru_class_info\": {\"name\": \"TruLlama\", \"modul...   \n",
       "1  Direct Query Engine  {\"tru_class_info\": {\"name\": \"TruLlama\", \"modul...   \n",
       "2  Direct Query Engine  {\"tru_class_info\": {\"name\": \"TruLlama\", \"modul...   \n",
       "3  Direct Query Engine  {\"tru_class_info\": {\"name\": \"TruLlama\", \"modul...   \n",
       "4  Direct Query Engine  {\"tru_class_info\": {\"name\": \"TruLlama\", \"modul...   \n",
       "\n",
       "                                                type  \\\n",
       "0  RetrieverQueryEngine(llama_index.query_engine....   \n",
       "1  RetrieverQueryEngine(llama_index.query_engine....   \n",
       "2  RetrieverQueryEngine(llama_index.query_engine....   \n",
       "3  RetrieverQueryEngine(llama_index.query_engine....   \n",
       "4  RetrieverQueryEngine(llama_index.query_engine....   \n",
       "\n",
       "                                      record_id  \\\n",
       "0  record_hash_6aa96a48bb6ce0424fc6a1270f807f3c   \n",
       "1  record_hash_9329c6256dfb24b2f166f167f3b4f309   \n",
       "2  record_hash_aefe240795d018984848e482006083c7   \n",
       "3  record_hash_fa33f5e3141d34fe7b7d07ad0e95198f   \n",
       "4  record_hash_ed0ff1fb814540f7502446009d91b031   \n",
       "\n",
       "                                               input  \\\n",
       "0    \"What are the keys to building a career in AI?\"   \n",
       "1    \"How can teamwork contribute to success in AI?\"   \n",
       "2      \"What is the importance of networking in AI?\"   \n",
       "3  \"What are some good habits to develop for a su...   \n",
       "4  \"How can altruism be beneficial in building a ...   \n",
       "\n",
       "                                              output tags  \\\n",
       "0  \"The keys to building a career in AI are learn...    -   \n",
       "1  \"Collaborating and working in teams is crucial...    -   \n",
       "2  \"Networking is important in AI because it help...    -   \n",
       "3  \"Developing good habits is crucial for a succe...    -   \n",
       "4  \"Altruism can be beneficial in building a care...    -   \n",
       "\n",
       "                                         record_json  \\\n",
       "0  {\"record_id\": \"record_hash_6aa96a48bb6ce0424fc...   \n",
       "1  {\"record_id\": \"record_hash_9329c6256dfb24b2f16...   \n",
       "2  {\"record_id\": \"record_hash_aefe240795d01898484...   \n",
       "3  {\"record_id\": \"record_hash_fa33f5e3141d34fe7b7...   \n",
       "4  {\"record_id\": \"record_hash_ed0ff1fb814540f7502...   \n",
       "\n",
       "                                           cost_json  \\\n",
       "0  {\"n_requests\": 1, \"n_successful_requests\": 1, ...   \n",
       "1  {\"n_requests\": 1, \"n_successful_requests\": 1, ...   \n",
       "2  {\"n_requests\": 1, \"n_successful_requests\": 1, ...   \n",
       "3  {\"n_requests\": 1, \"n_successful_requests\": 1, ...   \n",
       "4  {\"n_requests\": 1, \"n_successful_requests\": 1, ...   \n",
       "\n",
       "                                           perf_json  \\\n",
       "0  {\"start_time\": \"2024-01-10T16:39:20.174730\", \"...   \n",
       "1  {\"start_time\": \"2024-01-10T16:39:33.174192\", \"...   \n",
       "2  {\"start_time\": \"2024-01-10T16:39:42.995205\", \"...   \n",
       "3  {\"start_time\": \"2024-01-10T16:39:53.129896\", \"...   \n",
       "4  {\"start_time\": \"2024-01-10T16:40:03.466133\", \"...   \n",
       "\n",
       "                           ts  Answer Relevance  Context Relevance  \\\n",
       "0  2024-01-10T16:39:31.861304               0.9                0.6   \n",
       "1  2024-01-10T16:39:41.607836               0.9                0.0   \n",
       "2  2024-01-10T16:39:51.533584               0.9                0.1   \n",
       "3  2024-01-10T16:40:01.787373               0.9                0.6   \n",
       "4  2024-01-10T16:40:12.487700               0.9                0.3   \n",
       "\n",
       "   Groundedness                             Answer Relevance_calls  \\\n",
       "0          1.00  [{'args': {'prompt': 'What are the keys to bui...   \n",
       "1          1.00  [{'args': {'prompt': 'How can teamwork contrib...   \n",
       "2          0.25  [{'args': {'prompt': 'What is the importance o...   \n",
       "3          0.82  [{'args': {'prompt': 'What are some good habit...   \n",
       "4          0.40  [{'args': {'prompt': 'How can altruism be bene...   \n",
       "\n",
       "                             Context Relevance_calls  \\\n",
       "0  [{'args': {'prompt': 'What are the keys to bui...   \n",
       "1  [{'args': {'prompt': 'How can teamwork contrib...   \n",
       "2  [{'args': {'prompt': 'What is the importance o...   \n",
       "3  [{'args': {'prompt': 'What are some good habit...   \n",
       "4  [{'args': {'prompt': 'How can altruism be bene...   \n",
       "\n",
       "                                  Groundedness_calls  latency  total_tokens  \\\n",
       "0  [{'args': {'source': 'PAGE 1Founder, DeepLearn...       11          2182   \n",
       "1  [{'args': {'source': 'Hopefully the previous c...        8          1722   \n",
       "2  [{'args': {'source': 'Hopefully the previous c...        8          1713   \n",
       "3  [{'args': {'source': 'Hopefully the previous c...        8          1694   \n",
       "4  [{'args': {'source': 'Hopefully the previous c...        9          1710   \n",
       "\n",
       "   total_cost  \n",
       "0    0.003355  \n",
       "1    0.002632  \n",
       "2    0.002613  \n",
       "3    0.002590  \n",
       "4    0.002623  "
      ]
     },
     "execution_count": 31,
     "metadata": {},
     "output_type": "execute_result"
    }
   ],
   "source": [
    "records.head()"
   ]
  },
  {
   "cell_type": "code",
   "execution_count": 2,
   "metadata": {},
   "outputs": [
    {
     "name": "stdout",
     "output_type": "stream",
     "text": [
      "Starting dashboard ...\n",
      "Config file already exists. Skipping writing process.\n",
      "Credentials file already exists. Skipping writing process.\n"
     ]
    },
    {
     "data": {
      "application/vnd.jupyter.widget-view+json": {
       "model_id": "f149e28d96ce441193881a613c15905e",
       "version_major": 2,
       "version_minor": 0
      },
      "text/plain": [
       "Accordion(children=(VBox(children=(VBox(children=(Label(value='STDOUT'), Output())), VBox(children=(Label(valu…"
      ]
     },
     "metadata": {},
     "output_type": "display_data"
    },
    {
     "name": "stdout",
     "output_type": "stream",
     "text": [
      "Dashboard started at http://192.168.1.161:8501 .\n"
     ]
    },
    {
     "data": {
      "text/plain": [
       "<Popen: returncode: None args: ['streamlit', 'run', '--server.headless=True'...>"
      ]
     },
     "execution_count": 2,
     "metadata": {},
     "output_type": "execute_result"
    }
   ],
   "source": [
    "tru.run_dashboard()"
   ]
  },
  {
   "cell_type": "code",
   "execution_count": null,
   "metadata": {},
   "outputs": [],
   "source": []
  },
  {
   "cell_type": "markdown",
   "metadata": {},
   "source": [
    "### Advanced RAG Pipeline"
   ]
  },
  {
   "cell_type": "markdown",
   "metadata": {},
   "source": [
    "#### Sentence Window Retrieval"
   ]
  },
  {
   "cell_type": "code",
   "execution_count": 21,
   "metadata": {},
   "outputs": [],
   "source": [
    "from llama_index.llms import OpenAI\n",
    "\n",
    "llm = OpenAI(model=\"gpt-3.5-turbo\", temperature=0.1)"
   ]
  },
  {
   "cell_type": "code",
   "execution_count": 22,
   "metadata": {},
   "outputs": [],
   "source": [
    "from scripts.utils import build_sentence_window_index\n",
    "\n",
    "sentence_index = build_sentence_window_index(\n",
    "    document, llm, embed_model=\"local:BAAI/bge-small-en-v1.5\", save_dir=\"sentence_index\"\n",
    ")"
   ]
  },
  {
   "cell_type": "code",
   "execution_count": 23,
   "metadata": {},
   "outputs": [],
   "source": [
    "from scripts.utils import get_sentence_window_query_engine\n",
    "\n",
    "sentence_window_engine = get_sentence_window_query_engine(sentence_index)"
   ]
  },
  {
   "cell_type": "code",
   "execution_count": 25,
   "metadata": {},
   "outputs": [
    {
     "name": "stdout",
     "output_type": "stream",
     "text": [
      "('To get started on a personal project in AI, it is important to first '\n",
      " 'identify and scope the project. Consider your career goals and choose a '\n",
      " 'project that complements them. Ensure that the project is responsible, '\n",
      " 'ethical, and beneficial to people. As you progress in your career, aim for '\n",
      " 'projects that grow in scope, complexity, and impact over time. Building a '\n",
      " 'portfolio of projects that shows skill progression can also be helpful. '\n",
      " 'Additionally, there are resources available in the book that provide '\n",
      " 'guidance on starting your AI job search and finding the right AI job for '\n",
      " 'you.')\n"
     ]
    }
   ],
   "source": [
    "window_response = sentence_window_engine.query(\n",
    "    \"how do I get started on a personal project in AI?\"\n",
    ")\n",
    "pprint(str(window_response))"
   ]
  },
  {
   "cell_type": "code",
   "execution_count": 33,
   "metadata": {},
   "outputs": [],
   "source": [
    "tru.reset_database()\n",
    "\n",
    "tru_recorder_sentence_window = get_prebuilt_trulens_recorder(\n",
    "    sentence_window_engine, app_id=\"Sentence Window Query Engine\"\n",
    ")"
   ]
  },
  {
   "cell_type": "code",
   "execution_count": 34,
   "metadata": {},
   "outputs": [
    {
     "name": "stderr",
     "output_type": "stream",
     "text": [
      "A new object of type <class 'llama_index.query_engine.retriever_query_engine.RetrieverQueryEngine'> at 0x7f4dd05ca010 is calling an instrumented method <function BaseQueryEngine.query at 0x7f4e14561120>. The path of this call may be incorrect.\n",
      "Guessing path of new object is app based on other object (0x7f4e002c9d10) using this function.\n",
      "A new object of type <class 'llama_index.query_engine.retriever_query_engine.RetrieverQueryEngine'> at 0x7f4dd05ca010 is calling an instrumented method <function RetrieverQueryEngine.retrieve at 0x7f4e0199b740>. The path of this call may be incorrect.\n",
      "Guessing path of new object is app based on other object (0x7f4e002c9d10) using this function.\n",
      "A new object of type <class 'llama_index.indices.vector_store.retrievers.retriever.VectorIndexRetriever'> at 0x7f4dd05cbd10 is calling an instrumented method <function BaseRetriever.retrieve at 0x7f4e04bd0ea0>. The path of this call may be incorrect.\n",
      "Guessing path of new object is app.retriever based on other object (0x7f4e002c8850) using this function.\n",
      "A new object of type <class 'llama_index.response_synthesizers.compact_and_refine.CompactAndRefine'> at 0x7f4dd0574110 is calling an instrumented method <function CompactAndRefine.get_response at 0x7f4e04b9d760>. The path of this call may be incorrect.\n",
      "Guessing path of new object is app._response_synthesizer based on other object (0x7f4ddd912350) using this function.\n",
      "A new object of type <class 'llama_index.response_synthesizers.compact_and_refine.CompactAndRefine'> at 0x7f4dd0574110 is calling an instrumented method <function Refine.get_response at 0x7f4e04b9ea20>. The path of this call may be incorrect.\n",
      "Guessing path of new object is app._response_synthesizer based on other object (0x7f4ddd912350) using this function.\n"
     ]
    },
    {
     "name": "stdout",
     "output_type": "stream",
     "text": [
      "What are the keys to building a career in AI?\n",
      "The keys to building a career in AI are learning foundational technical skills, working on projects, and finding a job, all of which is supported by being part of a community.\n"
     ]
    },
    {
     "name": "stderr",
     "output_type": "stream",
     "text": [
      "A new object of type <class 'llama_index.query_engine.retriever_query_engine.RetrieverQueryEngine'> at 0x7f4dd05ca010 is calling an instrumented method <function RetrieverQueryEngine.retrieve at 0x7f4e0199b740>. The path of this call may be incorrect.\n",
      "Guessing path of new object is app based on other object (0x7f4e002c9d10) using this function.\n",
      "A new object of type <class 'llama_index.response_synthesizers.compact_and_refine.CompactAndRefine'> at 0x7f4dd0574110 is calling an instrumented method <function Refine.get_response at 0x7f4e04b9ea20>. The path of this call may be incorrect.\n",
      "Guessing path of new object is app._response_synthesizer based on other object (0x7f4ddd912350) using this function.\n"
     ]
    },
    {
     "name": "stdout",
     "output_type": "stream",
     "text": [
      "How can teamwork contribute to success in AI?\n",
      "Teamwork can contribute to success in AI by allowing individuals to leverage the expertise and insights of their colleagues. When working on larger AI projects that require collaboration, the ability to lead and work effectively as a team becomes crucial. By working together, team members can share their deep technical insights, make informed decisions, and steer the project in the right direction. Additionally, being surrounded by colleagues who are dedicated, hardworking, and continuously learning can inspire individuals to do the same, leading to improved project outcomes.\n"
     ]
    },
    {
     "name": "stderr",
     "output_type": "stream",
     "text": [
      "A new object of type <class 'llama_index.query_engine.retriever_query_engine.RetrieverQueryEngine'> at 0x7f4dd05ca010 is calling an instrumented method <function RetrieverQueryEngine.retrieve at 0x7f4e0199b740>. The path of this call may be incorrect.\n",
      "Guessing path of new object is app based on other object (0x7f4e002c9d10) using this function.\n",
      "A new object of type <class 'llama_index.response_synthesizers.compact_and_refine.CompactAndRefine'> at 0x7f4dd0574110 is calling an instrumented method <function Refine.get_response at 0x7f4e04b9ea20>. The path of this call may be incorrect.\n",
      "Guessing path of new object is app._response_synthesizer based on other object (0x7f4ddd912350) using this function.\n"
     ]
    },
    {
     "name": "stdout",
     "output_type": "stream",
     "text": [
      "What is the importance of networking in AI?\n",
      "Networking is important in AI because it allows individuals to connect with others who have experience and knowledge in the field. By reaching out to people in their network, such as friends or alumni, individuals can receive guidance and support as they navigate their AI career. Additionally, attending meetups and engaging in informational interviews can help individuals expand their network and gain insights from professionals in positions that align with their interests. This networking can be valuable in staying updated on the evolving field of AI and potentially finding job opportunities.\n"
     ]
    },
    {
     "name": "stderr",
     "output_type": "stream",
     "text": [
      "A new object of type <class 'llama_index.query_engine.retriever_query_engine.RetrieverQueryEngine'> at 0x7f4dd05ca010 is calling an instrumented method <function RetrieverQueryEngine.retrieve at 0x7f4e0199b740>. The path of this call may be incorrect.\n",
      "Guessing path of new object is app based on other object (0x7f4e002c9d10) using this function.\n",
      "A new object of type <class 'llama_index.response_synthesizers.compact_and_refine.CompactAndRefine'> at 0x7f4dd0574110 is calling an instrumented method <function Refine.get_response at 0x7f4e04b9ea20>. The path of this call may be incorrect.\n",
      "Guessing path of new object is app._response_synthesizer based on other object (0x7f4ddd912350) using this function.\n"
     ]
    },
    {
     "name": "stdout",
     "output_type": "stream",
     "text": [
      "What are some good habits to develop for a successful career?\n",
      "Developing good habits in eating, exercise, sleep, personal relationships, work, learning, and self-care can be beneficial for a successful career. These habits help individuals move forward while staying healthy and can contribute to long-term success in their careers.\n"
     ]
    },
    {
     "name": "stderr",
     "output_type": "stream",
     "text": [
      "A new object of type <class 'llama_index.query_engine.retriever_query_engine.RetrieverQueryEngine'> at 0x7f4dd05ca010 is calling an instrumented method <function RetrieverQueryEngine.retrieve at 0x7f4e0199b740>. The path of this call may be incorrect.\n",
      "Guessing path of new object is app based on other object (0x7f4e002c9d10) using this function.\n",
      "A new object of type <class 'llama_index.response_synthesizers.compact_and_refine.CompactAndRefine'> at 0x7f4dd0574110 is calling an instrumented method <function Refine.get_response at 0x7f4e04b9ea20>. The path of this call may be incorrect.\n",
      "Guessing path of new object is app._response_synthesizer based on other object (0x7f4ddd912350) using this function.\n"
     ]
    },
    {
     "name": "stdout",
     "output_type": "stream",
     "text": [
      "How can altruism be beneficial in building a career?\n",
      "Altruism can be beneficial in building a career by helping others even as one focuses on their own career growth. By aiming to lift others during every step of their own journey, individuals can achieve better outcomes for themselves. This can create a positive reputation and network, which can lead to opportunities and support in their career advancement. Additionally, practicing altruism can enhance personal relationships and foster a sense of fulfillment and purpose, which can contribute to overall career satisfaction and success.\n"
     ]
    },
    {
     "name": "stderr",
     "output_type": "stream",
     "text": [
      "A new object of type <class 'llama_index.query_engine.retriever_query_engine.RetrieverQueryEngine'> at 0x7f4dd05ca010 is calling an instrumented method <function RetrieverQueryEngine.retrieve at 0x7f4e0199b740>. The path of this call may be incorrect.\n",
      "Guessing path of new object is app based on other object (0x7f4e002c9d10) using this function.\n",
      "A new object of type <class 'llama_index.response_synthesizers.compact_and_refine.CompactAndRefine'> at 0x7f4dd0574110 is calling an instrumented method <function Refine.get_response at 0x7f4e04b9ea20>. The path of this call may be incorrect.\n",
      "Guessing path of new object is app._response_synthesizer based on other object (0x7f4ddd912350) using this function.\n"
     ]
    },
    {
     "name": "stdout",
     "output_type": "stream",
     "text": [
      "What is imposter syndrome and how does it relate to AI?\n",
      "Imposter syndrome is a psychological phenomenon where individuals doubt their abilities and fear being exposed as frauds, despite evidence of their success. In the context of AI, newcomers to the field sometimes experience imposter syndrome, questioning whether they truly belong in the AI community and if they are capable of contributing. It is important to address imposter syndrome in order to encourage individuals to continue growing in AI and not let self-doubt hinder their progress.\n"
     ]
    },
    {
     "name": "stderr",
     "output_type": "stream",
     "text": [
      "A new object of type <class 'llama_index.query_engine.retriever_query_engine.RetrieverQueryEngine'> at 0x7f4dd05ca010 is calling an instrumented method <function RetrieverQueryEngine.retrieve at 0x7f4e0199b740>. The path of this call may be incorrect.\n",
      "Guessing path of new object is app based on other object (0x7f4e002c9d10) using this function.\n",
      "A new object of type <class 'llama_index.response_synthesizers.compact_and_refine.CompactAndRefine'> at 0x7f4dd0574110 is calling an instrumented method <function Refine.get_response at 0x7f4e04b9ea20>. The path of this call may be incorrect.\n",
      "Guessing path of new object is app._response_synthesizer based on other object (0x7f4ddd912350) using this function.\n"
     ]
    },
    {
     "name": "stdout",
     "output_type": "stream",
     "text": [
      "Who are some accomplished individuals who have experienced imposter syndrome?\n",
      "Sheryl Sandberg, Michelle Obama, Tom Hanks, and Mike Cannon-Brookes are some accomplished individuals who have experienced imposter syndrome.\n"
     ]
    },
    {
     "name": "stderr",
     "output_type": "stream",
     "text": [
      "A new object of type <class 'llama_index.query_engine.retriever_query_engine.RetrieverQueryEngine'> at 0x7f4dd05ca010 is calling an instrumented method <function RetrieverQueryEngine.retrieve at 0x7f4e0199b740>. The path of this call may be incorrect.\n",
      "Guessing path of new object is app based on other object (0x7f4e002c9d10) using this function.\n",
      "A new object of type <class 'llama_index.response_synthesizers.compact_and_refine.CompactAndRefine'> at 0x7f4dd0574110 is calling an instrumented method <function Refine.get_response at 0x7f4e04b9ea20>. The path of this call may be incorrect.\n",
      "Guessing path of new object is app._response_synthesizer based on other object (0x7f4ddd912350) using this function.\n"
     ]
    },
    {
     "name": "stdout",
     "output_type": "stream",
     "text": [
      "What is the first step to becoming good at AI?\n",
      "The first step to becoming good at AI is to learn foundational technical skills.\n"
     ]
    },
    {
     "name": "stderr",
     "output_type": "stream",
     "text": [
      "A new object of type <class 'llama_index.query_engine.retriever_query_engine.RetrieverQueryEngine'> at 0x7f4dd05ca010 is calling an instrumented method <function RetrieverQueryEngine.retrieve at 0x7f4e0199b740>. The path of this call may be incorrect.\n",
      "Guessing path of new object is app based on other object (0x7f4e002c9d10) using this function.\n",
      "A new object of type <class 'llama_index.response_synthesizers.compact_and_refine.CompactAndRefine'> at 0x7f4dd0574110 is calling an instrumented method <function Refine.get_response at 0x7f4e04b9ea20>. The path of this call may be incorrect.\n",
      "Guessing path of new object is app._response_synthesizer based on other object (0x7f4ddd912350) using this function.\n"
     ]
    },
    {
     "name": "stdout",
     "output_type": "stream",
     "text": [
      "What are some common challenges in AI?\n",
      "Some common challenges in AI include keeping up-to-date with evolving technology, finding suitable projects and estimating timelines and return on investment, managing the highly iterative nature of AI projects, collaborating with stakeholders who lack expertise in AI, and struggling with technical challenges while reading research papers or tuning neural network hyperparameters.\n"
     ]
    },
    {
     "name": "stderr",
     "output_type": "stream",
     "text": [
      "A new object of type <class 'llama_index.query_engine.retriever_query_engine.RetrieverQueryEngine'> at 0x7f4dd05ca010 is calling an instrumented method <function RetrieverQueryEngine.retrieve at 0x7f4e0199b740>. The path of this call may be incorrect.\n",
      "Guessing path of new object is app based on other object (0x7f4e002c9d10) using this function.\n",
      "A new object of type <class 'llama_index.response_synthesizers.compact_and_refine.CompactAndRefine'> at 0x7f4dd0574110 is calling an instrumented method <function Refine.get_response at 0x7f4e04b9ea20>. The path of this call may be incorrect.\n",
      "Guessing path of new object is app._response_synthesizer based on other object (0x7f4ddd912350) using this function.\n"
     ]
    },
    {
     "name": "stdout",
     "output_type": "stream",
     "text": [
      "Is it normal to find parts of AI challenging?\n",
      "Yes, it is normal to find parts of AI challenging. The author of the text acknowledges that they still find many research papers challenging to read and have made mistakes while working with neural networks. They assure the reader that everyone who has published a seminal AI paper has also faced similar technical challenges at some point.\n"
     ]
    },
    {
     "name": "stderr",
     "output_type": "stream",
     "text": [
      "A new object of type <class 'llama_index.query_engine.retriever_query_engine.RetrieverQueryEngine'> at 0x7f4dd05ca010 is calling an instrumented method <function RetrieverQueryEngine.retrieve at 0x7f4e0199b740>. The path of this call may be incorrect.\n",
      "Guessing path of new object is app based on other object (0x7f4e002c9d10) using this function.\n",
      "A new object of type <class 'llama_index.response_synthesizers.compact_and_refine.CompactAndRefine'> at 0x7f4dd0574110 is calling an instrumented method <function Refine.get_response at 0x7f4e04b9ea20>. The path of this call may be incorrect.\n",
      "Guessing path of new object is app._response_synthesizer based on other object (0x7f4ddd912350) using this function.\n"
     ]
    },
    {
     "name": "stdout",
     "output_type": "stream",
     "text": [
      "What is the right AI job for me?\n",
      "The right AI job for you is one that complements your career goals and allows you to showcase skill progression through a portfolio of projects. It is important to start your AI job search with a simple framework and utilize informational interviews to find the right job. Building a career in AI requires overcoming imposter syndrome and understanding the keys to success in the field.\n"
     ]
    }
   ],
   "source": [
    "for question in eval_questions:\n",
    "    with tru_recorder_sentence_window as recording:\n",
    "        response = sentence_window_engine.query(question)\n",
    "        print(question)\n",
    "        print(str(response))"
   ]
  },
  {
   "cell_type": "code",
   "execution_count": 39,
   "metadata": {},
   "outputs": [
    {
     "data": {
      "text/html": [
       "<div>\n",
       "<style scoped>\n",
       "    .dataframe tbody tr th:only-of-type {\n",
       "        vertical-align: middle;\n",
       "    }\n",
       "\n",
       "    .dataframe tbody tr th {\n",
       "        vertical-align: top;\n",
       "    }\n",
       "\n",
       "    .dataframe thead th {\n",
       "        text-align: right;\n",
       "    }\n",
       "</style>\n",
       "<table border=\"1\" class=\"dataframe\">\n",
       "  <thead>\n",
       "    <tr style=\"text-align: right;\">\n",
       "      <th></th>\n",
       "      <th>Context Relevance</th>\n",
       "      <th>Answer Relevance</th>\n",
       "      <th>Groundedness</th>\n",
       "      <th>latency</th>\n",
       "      <th>total_cost</th>\n",
       "    </tr>\n",
       "    <tr>\n",
       "      <th>app_id</th>\n",
       "      <th></th>\n",
       "      <th></th>\n",
       "      <th></th>\n",
       "      <th></th>\n",
       "      <th></th>\n",
       "    </tr>\n",
       "  </thead>\n",
       "  <tbody>\n",
       "    <tr>\n",
       "      <th>Sentence Window Query Engine</th>\n",
       "      <td>0.400000</td>\n",
       "      <td>0.872727</td>\n",
       "      <td>0.843182</td>\n",
       "      <td>10.909091</td>\n",
       "      <td>0.000839</td>\n",
       "    </tr>\n",
       "    <tr>\n",
       "      <th>Direct Query Engine</th>\n",
       "      <td>0.269231</td>\n",
       "      <td>0.915385</td>\n",
       "      <td>0.739744</td>\n",
       "      <td>10.615385</td>\n",
       "      <td>0.003047</td>\n",
       "    </tr>\n",
       "  </tbody>\n",
       "</table>\n",
       "</div>"
      ],
      "text/plain": [
       "                              Context Relevance  Answer Relevance  \\\n",
       "app_id                                                              \n",
       "Sentence Window Query Engine           0.400000          0.872727   \n",
       "Direct Query Engine                    0.269231          0.915385   \n",
       "\n",
       "                              Groundedness    latency  total_cost  \n",
       "app_id                                                             \n",
       "Sentence Window Query Engine      0.843182  10.909091    0.000839  \n",
       "Direct Query Engine               0.739744  10.615385    0.003047  "
      ]
     },
     "execution_count": 39,
     "metadata": {},
     "output_type": "execute_result"
    }
   ],
   "source": [
    "tru.get_leaderboard(app_ids=[])"
   ]
  },
  {
   "cell_type": "code",
   "execution_count": null,
   "metadata": {},
   "outputs": [],
   "source": []
  },
  {
   "cell_type": "markdown",
   "metadata": {},
   "source": [
    "#### Auto Merging Retrieval"
   ]
  },
  {
   "cell_type": "code",
   "execution_count": 40,
   "metadata": {},
   "outputs": [],
   "source": [
    "from scripts.utils import build_automerging_index\n",
    "\n",
    "automerging_index = build_automerging_index(\n",
    "    documents, llm, embed_model=\"local:BAAI/bge-small-en-v1.5\", save_dir=\"merging_index\"\n",
    ")"
   ]
  },
  {
   "cell_type": "code",
   "execution_count": 41,
   "metadata": {},
   "outputs": [],
   "source": [
    "from scripts.utils import get_automerging_query_engine\n",
    "\n",
    "automerging_query_engine = get_automerging_query_engine(\n",
    "    automerging_index,\n",
    ")"
   ]
  },
  {
   "cell_type": "code",
   "execution_count": 42,
   "metadata": {},
   "outputs": [
    {
     "name": "stdout",
     "output_type": "stream",
     "text": [
      "> Merging 1 nodes into parent node.\n",
      "> Parent node id: 52e4d77d-1208-4fed-933b-b8a878e747de.\n",
      "> Parent node text: PAGE 21Building a Portfolio of \n",
      "Projects that Shows \n",
      "Skill Progression CHAPTER 6\n",
      "PROJECTS\n",
      "\n",
      "> Merging 1 nodes into parent node.\n",
      "> Parent node id: 72c07f49-c944-433d-a812-0e7fe3eb9686.\n",
      "> Parent node text: PAGE 21Building a Portfolio of \n",
      "Projects that Shows \n",
      "Skill Progression CHAPTER 6\n",
      "PROJECTS\n",
      "\n",
      "To build a portfolio of AI projects, it is important to start with simple undertakings and gradually progress to more complex ones. This progression over time will demonstrate your growth and development in the field. Additionally, effective communication is crucial in order to explain your thinking and showcase the value of your work. Being able to articulate your ideas will help others see the potential in your projects and trust you with the necessary resources.\n"
     ]
    }
   ],
   "source": [
    "auto_merging_response = automerging_query_engine.query(\n",
    "    \"How do I build a portfolio of AI projects?\"\n",
    ")\n",
    "print(str(auto_merging_response))"
   ]
  },
  {
   "cell_type": "code",
   "execution_count": 43,
   "metadata": {},
   "outputs": [],
   "source": [
    "tru_recorder_automerging = get_prebuilt_trulens_recorder(\n",
    "    automerging_query_engine, app_id=\"Automerging Query Engine\"\n",
    ")"
   ]
  },
  {
   "cell_type": "code",
   "execution_count": 44,
   "metadata": {},
   "outputs": [
    {
     "name": "stderr",
     "output_type": "stream",
     "text": [
      "A new object of type <class 'llama_index.query_engine.retriever_query_engine.RetrieverQueryEngine'> at 0x7f4db2e10290 is calling an instrumented method <function BaseQueryEngine.query at 0x7f4e14561120>. The path of this call may be incorrect.\n",
      "Guessing path of new object is app based on other object (0x7f4e002c9d10) using this function.\n",
      "A new object of type <class 'llama_index.query_engine.retriever_query_engine.RetrieverQueryEngine'> at 0x7f4db2e10290 is calling an instrumented method <function RetrieverQueryEngine.retrieve at 0x7f4e0199b740>. The path of this call may be incorrect.\n",
      "Guessing path of new object is app based on other object (0x7f4e002c9d10) using this function.\n",
      "A new object of type <class 'llama_index.retrievers.auto_merging_retriever.AutoMergingRetriever'> at 0x7f4db80c14d0 is calling an instrumented method <function BaseRetriever.retrieve at 0x7f4e04bd0ea0>. The path of this call may be incorrect.\n",
      "Guessing path of new object is app.retriever based on other object (0x7f4e002c8850) using this function.\n",
      "A new object of type <class 'llama_index.indices.vector_store.retrievers.retriever.VectorIndexRetriever'> at 0x7f4db2f3b790 is calling an instrumented method <function BaseRetriever.retrieve at 0x7f4e04bd0ea0>. The path of this call may be incorrect.\n",
      "Guessing path of new object is app.retriever based on other object (0x7f4e002c8850) using this function.\n"
     ]
    },
    {
     "name": "stdout",
     "output_type": "stream",
     "text": [
      "> Merging 2 nodes into parent node.\n",
      "> Parent node id: e2322408-3f31-4a3f-9642-4fd2fa94e2af.\n",
      "> Parent node text: PAGE 3Table of \n",
      "ContentsIntroduction: Coding AI is the New Literacy.\n",
      "Chapter 1: Three Steps to Ca...\n",
      "\n",
      "> Merging 1 nodes into parent node.\n",
      "> Parent node id: 3cf60441-7d20-4786-931d-a7ddc4e89fa3.\n",
      "> Parent node text: PAGE 3Table of \n",
      "ContentsIntroduction: Coding AI is the New Literacy.\n",
      "Chapter 1: Three Steps to Ca...\n",
      "\n"
     ]
    },
    {
     "name": "stderr",
     "output_type": "stream",
     "text": [
      "A new object of type <class 'llama_index.response_synthesizers.compact_and_refine.CompactAndRefine'> at 0x7f4db8235510 is calling an instrumented method <function CompactAndRefine.get_response at 0x7f4e04b9d760>. The path of this call may be incorrect.\n",
      "Guessing path of new object is app._response_synthesizer based on other object (0x7f4ddd912350) using this function.\n",
      "A new object of type <class 'llama_index.response_synthesizers.compact_and_refine.CompactAndRefine'> at 0x7f4db8235510 is calling an instrumented method <function Refine.get_response at 0x7f4e04b9ea20>. The path of this call may be incorrect.\n",
      "Guessing path of new object is app._response_synthesizer based on other object (0x7f4ddd912350) using this function.\n"
     ]
    },
    {
     "name": "stdout",
     "output_type": "stream",
     "text": [
      "What are the keys to building a career in AI?\n",
      "The keys to building a career in AI are learning foundational technical skills, working on projects, and finding a job. These steps are supported by being part of a community.\n"
     ]
    },
    {
     "name": "stderr",
     "output_type": "stream",
     "text": [
      "A new object of type <class 'llama_index.query_engine.retriever_query_engine.RetrieverQueryEngine'> at 0x7f4db2e10290 is calling an instrumented method <function RetrieverQueryEngine.retrieve at 0x7f4e0199b740>. The path of this call may be incorrect.\n",
      "Guessing path of new object is app based on other object (0x7f4e002c9d10) using this function.\n",
      "A new object of type <class 'llama_index.response_synthesizers.compact_and_refine.CompactAndRefine'> at 0x7f4db8235510 is calling an instrumented method <function Refine.get_response at 0x7f4e04b9ea20>. The path of this call may be incorrect.\n",
      "Guessing path of new object is app._response_synthesizer based on other object (0x7f4ddd912350) using this function.\n"
     ]
    },
    {
     "name": "stdout",
     "output_type": "stream",
     "text": [
      "How can teamwork contribute to success in AI?\n",
      "Teamwork can contribute to success in AI by allowing individuals to collaborate with others, influence their team members, and be influenced by them. This is important because when tackling large projects in AI, working in teams is more effective than working individually. The ability to work together, communicate effectively, and leverage the diverse skills and perspectives of team members can lead to better outcomes in AI projects.\n"
     ]
    },
    {
     "name": "stderr",
     "output_type": "stream",
     "text": [
      "A new object of type <class 'llama_index.query_engine.retriever_query_engine.RetrieverQueryEngine'> at 0x7f4db2e10290 is calling an instrumented method <function RetrieverQueryEngine.retrieve at 0x7f4e0199b740>. The path of this call may be incorrect.\n",
      "Guessing path of new object is app based on other object (0x7f4e002c9d10) using this function.\n"
     ]
    },
    {
     "name": "stdout",
     "output_type": "stream",
     "text": [
      "> Merging 3 nodes into parent node.\n",
      "> Parent node id: c3293835-eccb-416f-92b2-d208c2b6f3a1.\n",
      "> Parent node text: PAGE 35Keys to Building a Career in AI CHAPTER 10\n",
      "The path to career success in AI is more comple...\n",
      "\n",
      "> Merging 1 nodes into parent node.\n",
      "> Parent node id: e129624f-8839-4547-b753-8d63f7e4e5c3.\n",
      "> Parent node text: PAGE 35Keys to Building a Career in AI CHAPTER 10\n",
      "The path to career success in AI is more comple...\n",
      "\n"
     ]
    },
    {
     "name": "stderr",
     "output_type": "stream",
     "text": [
      "A new object of type <class 'llama_index.response_synthesizers.compact_and_refine.CompactAndRefine'> at 0x7f4db8235510 is calling an instrumented method <function Refine.get_response at 0x7f4e04b9ea20>. The path of this call may be incorrect.\n",
      "Guessing path of new object is app._response_synthesizer based on other object (0x7f4ddd912350) using this function.\n"
     ]
    },
    {
     "name": "stdout",
     "output_type": "stream",
     "text": [
      "What is the importance of networking in AI?\n",
      "Networking is important in AI because it helps in building a strong professional network and community. This network can provide support, advice, and help when needed. It can also help in advancing one's career by providing opportunities and making future job searches easier. Additionally, networking allows for collaboration and the exchange of ideas, which is crucial in the field of AI where teamwork and communication skills are highly valued.\n"
     ]
    },
    {
     "name": "stderr",
     "output_type": "stream",
     "text": [
      "A new object of type <class 'llama_index.query_engine.retriever_query_engine.RetrieverQueryEngine'> at 0x7f4db2e10290 is calling an instrumented method <function RetrieverQueryEngine.retrieve at 0x7f4e0199b740>. The path of this call may be incorrect.\n",
      "Guessing path of new object is app based on other object (0x7f4e002c9d10) using this function.\n"
     ]
    },
    {
     "name": "stdout",
     "output_type": "stream",
     "text": [
      "> Merging 2 nodes into parent node.\n",
      "> Parent node id: b406bb60-da68-4168-8d09-76c68d1fd5cf.\n",
      "> Parent node text: PAGE 36Keys to Building a Career in AI CHAPTER 10\n",
      "Of all the steps in building a career, this \n",
      "on...\n",
      "\n",
      "> Merging 2 nodes into parent node.\n",
      "> Parent node id: a391eab4-47e1-40ff-af15-6e1918b4a6f0.\n",
      "> Parent node text: PAGE 11\n",
      "The Best Way to Build \n",
      "a New Habit\n",
      "One of my favorite books is BJ Fogg’s, Tiny Habits: Th...\n",
      "\n",
      "> Merging 1 nodes into parent node.\n",
      "> Parent node id: 7f51a077-6c0e-40eb-a012-294b3cfadeb0.\n",
      "> Parent node text: PAGE 36Keys to Building a Career in AI CHAPTER 10\n",
      "Of all the steps in building a career, this \n",
      "on...\n",
      "\n",
      "> Merging 1 nodes into parent node.\n",
      "> Parent node id: 892aa8db-3d28-47d4-906e-2f916c64274b.\n",
      "> Parent node text: PAGE 11\n",
      "The Best Way to Build \n",
      "a New Habit\n",
      "One of my favorite books is BJ Fogg’s, Tiny Habits: Th...\n",
      "\n"
     ]
    },
    {
     "name": "stderr",
     "output_type": "stream",
     "text": [
      "A new object of type <class 'llama_index.response_synthesizers.compact_and_refine.CompactAndRefine'> at 0x7f4db8235510 is calling an instrumented method <function Refine.get_response at 0x7f4e04b9ea20>. The path of this call may be incorrect.\n",
      "Guessing path of new object is app._response_synthesizer based on other object (0x7f4ddd912350) using this function.\n"
     ]
    },
    {
     "name": "stdout",
     "output_type": "stream",
     "text": [
      "What are some good habits to develop for a successful career?\n",
      "Developing good habits in eating, exercise, sleep, personal relationships, work, learning, and self-care can help in building a successful career. These habits can help individuals move forward while staying healthy and contribute to their overall success.\n"
     ]
    },
    {
     "name": "stderr",
     "output_type": "stream",
     "text": [
      "A new object of type <class 'llama_index.query_engine.retriever_query_engine.RetrieverQueryEngine'> at 0x7f4db2e10290 is calling an instrumented method <function RetrieverQueryEngine.retrieve at 0x7f4e0199b740>. The path of this call may be incorrect.\n",
      "Guessing path of new object is app based on other object (0x7f4e002c9d10) using this function.\n",
      "A new object of type <class 'llama_index.response_synthesizers.compact_and_refine.CompactAndRefine'> at 0x7f4db8235510 is calling an instrumented method <function Refine.get_response at 0x7f4e04b9ea20>. The path of this call may be incorrect.\n",
      "Guessing path of new object is app._response_synthesizer based on other object (0x7f4ddd912350) using this function.\n"
     ]
    },
    {
     "name": "stdout",
     "output_type": "stream",
     "text": [
      "How can altruism be beneficial in building a career?\n",
      "Altruism can be beneficial in building a career by helping others even as we pursue our own career goals. By aiming to lift others during every step of our own journey, we can achieve better outcomes for ourselves. This can lead to personal growth, improved leadership skills, and the ability to make a positive impact on projects or initiatives. Additionally, demonstrating altruism can enhance one's reputation and build strong relationships with colleagues and stakeholders, which can open up new opportunities and collaborations in the future.\n"
     ]
    },
    {
     "name": "stderr",
     "output_type": "stream",
     "text": [
      "A new object of type <class 'llama_index.query_engine.retriever_query_engine.RetrieverQueryEngine'> at 0x7f4db2e10290 is calling an instrumented method <function RetrieverQueryEngine.retrieve at 0x7f4e0199b740>. The path of this call may be incorrect.\n",
      "Guessing path of new object is app based on other object (0x7f4e002c9d10) using this function.\n"
     ]
    },
    {
     "name": "stdout",
     "output_type": "stream",
     "text": [
      "> Merging 5 nodes into parent node.\n",
      "> Parent node id: a7e4423f-5c03-45b9-b506-38a0ce5788d0.\n",
      "> Parent node text: PAGE 38Before we dive into the final chapter of this book, I’d like to address the serious matter...\n",
      "\n",
      "> Merging 1 nodes into parent node.\n",
      "> Parent node id: 07b180a7-2c4a-418d-8242-09e4f101691d.\n",
      "> Parent node text: PAGE 37Overcoming Imposter \n",
      "SyndromeCHAPTER 11\n",
      "\n",
      "> Merging 3 nodes into parent node.\n",
      "> Parent node id: 2cfed3f0-f4b7-4684-897e-75b16835f10d.\n",
      "> Parent node text: PAGE 39My three-year-old daughter (who can barely count to 12) regularly tries to teach things to...\n",
      "\n",
      "> Merging 1 nodes into parent node.\n",
      "> Parent node id: be537794-1c76-4b3d-80c1-cc19aa40aece.\n",
      "> Parent node text: PAGE 38Before we dive into the final chapter of this book, I’d like to address the serious matter...\n",
      "\n",
      "> Merging 1 nodes into parent node.\n",
      "> Parent node id: af9106ec-d2ca-436a-a14e-3e259f3434e7.\n",
      "> Parent node text: PAGE 37Overcoming Imposter \n",
      "SyndromeCHAPTER 11\n",
      "\n",
      "> Merging 1 nodes into parent node.\n",
      "> Parent node id: 143a61b5-cccb-43b3-8bd7-6633b6742c46.\n",
      "> Parent node text: PAGE 39My three-year-old daughter (who can barely count to 12) regularly tries to teach things to...\n",
      "\n"
     ]
    },
    {
     "name": "stderr",
     "output_type": "stream",
     "text": [
      "A new object of type <class 'llama_index.response_synthesizers.compact_and_refine.CompactAndRefine'> at 0x7f4db8235510 is calling an instrumented method <function Refine.get_response at 0x7f4e04b9ea20>. The path of this call may be incorrect.\n",
      "Guessing path of new object is app._response_synthesizer based on other object (0x7f4ddd912350) using this function.\n"
     ]
    },
    {
     "name": "stdout",
     "output_type": "stream",
     "text": [
      "What is imposter syndrome and how does it relate to AI?\n",
      "Imposter syndrome is a psychological phenomenon where individuals doubt their own abilities and fear being exposed as a fraud, despite evidence of their competence. In the context of AI, newcomers to the field may experience imposter syndrome, questioning whether they truly belong in the AI community. This can happen regardless of their success in the field. It is important to address imposter syndrome in order to encourage and welcome everyone who wants to join the AI community.\n"
     ]
    },
    {
     "name": "stderr",
     "output_type": "stream",
     "text": [
      "A new object of type <class 'llama_index.query_engine.retriever_query_engine.RetrieverQueryEngine'> at 0x7f4db2e10290 is calling an instrumented method <function RetrieverQueryEngine.retrieve at 0x7f4e0199b740>. The path of this call may be incorrect.\n",
      "Guessing path of new object is app based on other object (0x7f4e002c9d10) using this function.\n"
     ]
    },
    {
     "name": "stdout",
     "output_type": "stream",
     "text": [
      "> Merging 3 nodes into parent node.\n",
      "> Parent node id: a7e4423f-5c03-45b9-b506-38a0ce5788d0.\n",
      "> Parent node text: PAGE 38Before we dive into the final chapter of this book, I’d like to address the serious matter...\n",
      "\n",
      "> Merging 1 nodes into parent node.\n",
      "> Parent node id: 07b180a7-2c4a-418d-8242-09e4f101691d.\n",
      "> Parent node text: PAGE 37Overcoming Imposter \n",
      "SyndromeCHAPTER 11\n",
      "\n",
      "> Merging 3 nodes into parent node.\n",
      "> Parent node id: 2cfed3f0-f4b7-4684-897e-75b16835f10d.\n",
      "> Parent node text: PAGE 39My three-year-old daughter (who can barely count to 12) regularly tries to teach things to...\n",
      "\n",
      "> Merging 1 nodes into parent node.\n",
      "> Parent node id: be537794-1c76-4b3d-80c1-cc19aa40aece.\n",
      "> Parent node text: PAGE 38Before we dive into the final chapter of this book, I’d like to address the serious matter...\n",
      "\n",
      "> Merging 1 nodes into parent node.\n",
      "> Parent node id: af9106ec-d2ca-436a-a14e-3e259f3434e7.\n",
      "> Parent node text: PAGE 37Overcoming Imposter \n",
      "SyndromeCHAPTER 11\n",
      "\n",
      "> Merging 1 nodes into parent node.\n",
      "> Parent node id: 143a61b5-cccb-43b3-8bd7-6633b6742c46.\n",
      "> Parent node text: PAGE 39My three-year-old daughter (who can barely count to 12) regularly tries to teach things to...\n",
      "\n"
     ]
    },
    {
     "name": "stderr",
     "output_type": "stream",
     "text": [
      "A new object of type <class 'llama_index.response_synthesizers.compact_and_refine.CompactAndRefine'> at 0x7f4db8235510 is calling an instrumented method <function Refine.get_response at 0x7f4e04b9ea20>. The path of this call may be incorrect.\n",
      "Guessing path of new object is app._response_synthesizer based on other object (0x7f4ddd912350) using this function.\n"
     ]
    },
    {
     "name": "stdout",
     "output_type": "stream",
     "text": [
      "Who are some accomplished individuals who have experienced imposter syndrome?\n",
      "Sheryl Sandberg, Michelle Obama, Tom Hanks, and Mike Cannon-Brookes are some accomplished individuals who have experienced imposter syndrome.\n"
     ]
    },
    {
     "name": "stderr",
     "output_type": "stream",
     "text": [
      "A new object of type <class 'llama_index.query_engine.retriever_query_engine.RetrieverQueryEngine'> at 0x7f4db2e10290 is calling an instrumented method <function RetrieverQueryEngine.retrieve at 0x7f4e0199b740>. The path of this call may be incorrect.\n",
      "Guessing path of new object is app based on other object (0x7f4e002c9d10) using this function.\n",
      "A new object of type <class 'llama_index.response_synthesizers.compact_and_refine.CompactAndRefine'> at 0x7f4db8235510 is calling an instrumented method <function Refine.get_response at 0x7f4e04b9ea20>. The path of this call may be incorrect.\n",
      "Guessing path of new object is app._response_synthesizer based on other object (0x7f4ddd912350) using this function.\n"
     ]
    },
    {
     "name": "stdout",
     "output_type": "stream",
     "text": [
      "What is the first step to becoming good at AI?\n",
      "The first step to becoming good at AI is to learn foundational technical skills.\n"
     ]
    },
    {
     "name": "stderr",
     "output_type": "stream",
     "text": [
      "A new object of type <class 'llama_index.query_engine.retriever_query_engine.RetrieverQueryEngine'> at 0x7f4db2e10290 is calling an instrumented method <function RetrieverQueryEngine.retrieve at 0x7f4e0199b740>. The path of this call may be incorrect.\n",
      "Guessing path of new object is app based on other object (0x7f4e002c9d10) using this function.\n",
      "A new object of type <class 'llama_index.response_synthesizers.compact_and_refine.CompactAndRefine'> at 0x7f4db8235510 is calling an instrumented method <function Refine.get_response at 0x7f4e04b9ea20>. The path of this call may be incorrect.\n",
      "Guessing path of new object is app._response_synthesizer based on other object (0x7f4ddd912350) using this function.\n"
     ]
    },
    {
     "name": "stdout",
     "output_type": "stream",
     "text": [
      "What are some common challenges in AI?\n",
      "Some common challenges in AI include the highly iterative nature of AI projects and the difficulty in coming up with a plan for building a system when the time required to achieve the target accuracy is unknown. Additionally, technical challenges are often encountered by those working in the field of AI.\n"
     ]
    },
    {
     "name": "stderr",
     "output_type": "stream",
     "text": [
      "A new object of type <class 'llama_index.query_engine.retriever_query_engine.RetrieverQueryEngine'> at 0x7f4db2e10290 is calling an instrumented method <function RetrieverQueryEngine.retrieve at 0x7f4e0199b740>. The path of this call may be incorrect.\n",
      "Guessing path of new object is app based on other object (0x7f4e002c9d10) using this function.\n"
     ]
    },
    {
     "name": "stdout",
     "output_type": "stream",
     "text": [
      "> Merging 3 nodes into parent node.\n",
      "> Parent node id: a7e4423f-5c03-45b9-b506-38a0ce5788d0.\n",
      "> Parent node text: PAGE 38Before we dive into the final chapter of this book, I’d like to address the serious matter...\n",
      "\n",
      "> Merging 1 nodes into parent node.\n",
      "> Parent node id: be537794-1c76-4b3d-80c1-cc19aa40aece.\n",
      "> Parent node text: PAGE 38Before we dive into the final chapter of this book, I’d like to address the serious matter...\n",
      "\n"
     ]
    },
    {
     "name": "stderr",
     "output_type": "stream",
     "text": [
      "A new object of type <class 'llama_index.response_synthesizers.compact_and_refine.CompactAndRefine'> at 0x7f4db8235510 is calling an instrumented method <function Refine.get_response at 0x7f4e04b9ea20>. The path of this call may be incorrect.\n",
      "Guessing path of new object is app._response_synthesizer based on other object (0x7f4ddd912350) using this function.\n"
     ]
    },
    {
     "name": "stdout",
     "output_type": "stream",
     "text": [
      "Is it normal to find parts of AI challenging?\n",
      "Yes, it is normal to find parts of AI challenging. The context information suggests that even accomplished individuals in the AI community have faced technical challenges and struggled with certain aspects of AI. The author encourages newcomers to not be discouraged by these challenges and assures them that everyone has experienced similar difficulties at some point.\n"
     ]
    },
    {
     "name": "stderr",
     "output_type": "stream",
     "text": [
      "A new object of type <class 'llama_index.query_engine.retriever_query_engine.RetrieverQueryEngine'> at 0x7f4db2e10290 is calling an instrumented method <function RetrieverQueryEngine.retrieve at 0x7f4e0199b740>. The path of this call may be incorrect.\n",
      "Guessing path of new object is app based on other object (0x7f4e002c9d10) using this function.\n"
     ]
    },
    {
     "name": "stdout",
     "output_type": "stream",
     "text": [
      "> Merging 1 nodes into parent node.\n",
      "> Parent node id: 69f9d5c8-7ff5-4278-9709-bd598f99742b.\n",
      "> Parent node text: PAGE 31Finding the Right \n",
      "AI Job for YouCHAPTER 9\n",
      "JOBS\n",
      "\n",
      "> Merging 1 nodes into parent node.\n",
      "> Parent node id: 2c8277d4-e7d5-4e0e-8c5a-dc03115573a9.\n",
      "> Parent node text: If you’re leaving \n",
      "a job, exit gracefully. Give your employer ample notice, give your full effort...\n",
      "\n",
      "> Merging 1 nodes into parent node.\n",
      "> Parent node id: 13645683-8f23-48d7-a915-fd601775d1d9.\n",
      "> Parent node text: PAGE 31Finding the Right \n",
      "AI Job for YouCHAPTER 9\n",
      "JOBS\n",
      "\n"
     ]
    },
    {
     "name": "stderr",
     "output_type": "stream",
     "text": [
      "A new object of type <class 'llama_index.response_synthesizers.compact_and_refine.CompactAndRefine'> at 0x7f4db8235510 is calling an instrumented method <function Refine.get_response at 0x7f4e04b9ea20>. The path of this call may be incorrect.\n",
      "Guessing path of new object is app._response_synthesizer based on other object (0x7f4ddd912350) using this function.\n"
     ]
    },
    {
     "name": "stdout",
     "output_type": "stream",
     "text": [
      "What is the right AI job for me?\n",
      "The right AI job for you is discussed in Chapter 9 of the eBook \"How to Build a Career in AI.\"\n"
     ]
    }
   ],
   "source": [
    "for question in eval_questions:\n",
    "    with tru_recorder_automerging as recording:\n",
    "        response = automerging_query_engine.query(question)\n",
    "        print(question)\n",
    "        print(response)"
   ]
  },
  {
   "cell_type": "code",
   "execution_count": 45,
   "metadata": {},
   "outputs": [
    {
     "data": {
      "text/html": [
       "<div>\n",
       "<style scoped>\n",
       "    .dataframe tbody tr th:only-of-type {\n",
       "        vertical-align: middle;\n",
       "    }\n",
       "\n",
       "    .dataframe tbody tr th {\n",
       "        vertical-align: top;\n",
       "    }\n",
       "\n",
       "    .dataframe thead th {\n",
       "        text-align: right;\n",
       "    }\n",
       "</style>\n",
       "<table border=\"1\" class=\"dataframe\">\n",
       "  <thead>\n",
       "    <tr style=\"text-align: right;\">\n",
       "      <th></th>\n",
       "      <th>Context Relevance</th>\n",
       "      <th>Answer Relevance</th>\n",
       "      <th>Groundedness</th>\n",
       "      <th>latency</th>\n",
       "      <th>total_cost</th>\n",
       "    </tr>\n",
       "    <tr>\n",
       "      <th>app_id</th>\n",
       "      <th></th>\n",
       "      <th></th>\n",
       "      <th></th>\n",
       "      <th></th>\n",
       "      <th></th>\n",
       "    </tr>\n",
       "  </thead>\n",
       "  <tbody>\n",
       "    <tr>\n",
       "      <th>Automerging Query Engine</th>\n",
       "      <td>0.540909</td>\n",
       "      <td>0.827273</td>\n",
       "      <td>0.894697</td>\n",
       "      <td>10.909091</td>\n",
       "      <td>0.000851</td>\n",
       "    </tr>\n",
       "    <tr>\n",
       "      <th>Sentence Window Query Engine</th>\n",
       "      <td>0.400000</td>\n",
       "      <td>0.872727</td>\n",
       "      <td>0.843182</td>\n",
       "      <td>10.909091</td>\n",
       "      <td>0.000839</td>\n",
       "    </tr>\n",
       "    <tr>\n",
       "      <th>Direct Query Engine</th>\n",
       "      <td>0.269231</td>\n",
       "      <td>0.915385</td>\n",
       "      <td>0.739744</td>\n",
       "      <td>10.615385</td>\n",
       "      <td>0.003047</td>\n",
       "    </tr>\n",
       "  </tbody>\n",
       "</table>\n",
       "</div>"
      ],
      "text/plain": [
       "                              Context Relevance  Answer Relevance  \\\n",
       "app_id                                                              \n",
       "Automerging Query Engine               0.540909          0.827273   \n",
       "Sentence Window Query Engine           0.400000          0.872727   \n",
       "Direct Query Engine                    0.269231          0.915385   \n",
       "\n",
       "                              Groundedness    latency  total_cost  \n",
       "app_id                                                             \n",
       "Automerging Query Engine          0.894697  10.909091    0.000851  \n",
       "Sentence Window Query Engine      0.843182  10.909091    0.000839  \n",
       "Direct Query Engine               0.739744  10.615385    0.003047  "
      ]
     },
     "execution_count": 45,
     "metadata": {},
     "output_type": "execute_result"
    }
   ],
   "source": [
    "tru.get_leaderboard(app_ids=[])"
   ]
  },
  {
   "cell_type": "code",
   "execution_count": null,
   "metadata": {},
   "outputs": [],
   "source": []
  },
  {
   "cell_type": "code",
   "execution_count": null,
   "metadata": {},
   "outputs": [],
   "source": []
  }
 ],
 "metadata": {
  "kernelspec": {
   "display_name": "openai",
   "language": "python",
   "name": "python3"
  },
  "language_info": {
   "codemirror_mode": {
    "name": "ipython",
    "version": 3
   },
   "file_extension": ".py",
   "mimetype": "text/x-python",
   "name": "python",
   "nbconvert_exporter": "python",
   "pygments_lexer": "ipython3",
   "version": "3.11.4"
  }
 },
 "nbformat": 4,
 "nbformat_minor": 2
}
